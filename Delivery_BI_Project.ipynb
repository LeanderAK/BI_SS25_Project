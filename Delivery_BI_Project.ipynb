{
 "cells": [
  {
   "cell_type": "markdown",
   "id": "779cf0de",
   "metadata": {},
   "source": [
    "# BI Project - Breast Cancer"
   ]
  },
  {
   "cell_type": "markdown",
   "id": "0f9a4e95",
   "metadata": {},
   "source": [
    "## **Inhalte des Notebooks**\n",
    "\n",
    "Vorgehen nach CRISP-DM Framework.\n",
    "Die Schritte Data Understanding bis Evaluation werden im Notebook abgebildet, alle anderen Inhalte werden in der schriftlichen Ausarbeitung behandelt.\n",
    "\n",
    "- Business Understanding\n",
    "- **Data Understanding**\n",
    "- **Data Preperation**\n",
    "- **Modeling**\n",
    "- **Evaluation**\n",
    "- Deployment Options & Future Outlook\n",
    "- Conclusion"
   ]
  },
  {
   "cell_type": "markdown",
   "id": "a956d58b",
   "metadata": {},
   "source": [
    "## Data Understanding"
   ]
  },
  {
   "cell_type": "markdown",
   "id": "4cfb4077",
   "metadata": {},
   "source": [
    "**Aufgabenstellung:**\n",
    "- Describe the dataset used\n",
    "- Explore and describe features\n",
    "- Discuss data quality (e.g., missing values)\n",
    "- Highlight patterns or trends\n",
    "- Include visualizations to support your data understanding\n"
   ]
  },
  {
   "cell_type": "markdown",
   "id": "3caf3682",
   "metadata": {},
   "source": [
    "## Data Preperation"
   ]
  },
  {
   "cell_type": "markdown",
   "id": "077c4e6b",
   "metadata": {},
   "source": [
    "**Aufgabenstellung**\n",
    "- Detail how you selected and filtered your data\n",
    "- Explain any transformations or feature engineering steps (including missing\n"
   ]
  },
  {
   "cell_type": "markdown",
   "id": "837f8b44",
   "metadata": {},
   "source": [
    "## Modeling\n"
   ]
  },
  {
   "cell_type": "markdown",
   "id": "193706cd",
   "metadata": {},
   "source": [
    "**Aufgabenstellung**\n",
    "- Describe two different models selected for analysis\n",
    "- Describe how each model was implemented"
   ]
  },
  {
   "cell_type": "markdown",
   "id": "679fd8c2",
   "metadata": {},
   "source": [
    "## Evaluation"
   ]
  },
  {
   "cell_type": "markdown",
   "id": "f1964d75",
   "metadata": {},
   "source": [
    "**Aufgabenstellung**\n",
    "- Present evaluation metrics for both models\n",
    "- Compare model performance and explain results\n"
   ]
  }
 ],
 "metadata": {
  "language_info": {
   "name": "python"
  }
 },
 "nbformat": 4,
 "nbformat_minor": 5
}
